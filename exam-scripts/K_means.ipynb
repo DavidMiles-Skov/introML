{
 "cells": [
  {
   "cell_type": "code",
   "execution_count": 6,
   "metadata": {},
   "outputs": [],
   "source": [
    "import numpy as np "
   ]
  },
  {
   "cell_type": "code",
   "execution_count": 7,
   "metadata": {},
   "outputs": [],
   "source": [
    "def k_means(data, k, num_iter, initial_centroids):\n",
    "    \"\"\"\n",
    "    does k-means clustering on the data for a given number of iterations.\n",
    "\n",
    "    Parameters:\n",
    "        data: a list of lists of floats\n",
    "        k: an integer\n",
    "        num_iter: an integer\n",
    "       initial_centroids: a list of floats\n",
    "    \n",
    "    Returns:\n",
    "        final_centroids: a list of floats\n",
    "    \"\"\"\n",
    "    from scipy.spatial import distance\n",
    "    #initialize the clusters\n",
    "    clusters = [[] for _ in range(k)]\n",
    "    #iterate over the number of iterations\n",
    "    centroids = initial_centroids\n",
    "    for _ in range(num_iter):\n",
    "\n",
    "        #assign each data point to the closest centroid\n",
    "        for j in range(len(data)):\n",
    "            distances = np.array([np.abs(data[j]-centroids[l]) for l in range(k)])\n",
    "            clusters[np.argmin(distances)].append(data[j])\n",
    "        \n",
    "        #update the centroids\n",
    "        \n",
    "        for j in range(k):\n",
    "            if len(clusters[j]) > 0:\n",
    "                centroids[j] = np.mean(clusters[j])\n",
    "        #reset the clusters\n",
    "        clusters = [[] for _ in range(k)]\n",
    "    \n",
    "    final_centroids = centroids\n",
    "\n",
    "    return final_centroids"
   ]
  },
  {
   "cell_type": "code",
   "execution_count": 8,
   "metadata": {},
   "outputs": [
    {
     "name": "stdout",
     "output_type": "stream",
     "text": [
      "[3.0, 8.0, 12.5]\n"
     ]
    }
   ],
   "source": [
    "data = [3, 6, 7, 9, 10, 11, 14]\n",
    "k = 3\n",
    "num_iter = 100\n",
    "initial_centroids = [4, 7, 14]\n",
    "\n",
    "print(k_means(data, k, num_iter, initial_centroids))"
   ]
  }
 ],
 "metadata": {
  "kernelspec": {
   "display_name": "introML",
   "language": "python",
   "name": "python3"
  },
  "language_info": {
   "codemirror_mode": {
    "name": "ipython",
    "version": 3
   },
   "file_extension": ".py",
   "mimetype": "text/x-python",
   "name": "python",
   "nbconvert_exporter": "python",
   "pygments_lexer": "ipython3",
   "version": "3.11.7"
  }
 },
 "nbformat": 4,
 "nbformat_minor": 2
}
