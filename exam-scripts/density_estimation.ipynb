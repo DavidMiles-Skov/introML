{
 "cells": [
  {
   "cell_type": "markdown",
   "metadata": {},
   "source": [
    "#### C20 - Density Estimation\n",
    "\n",
    "##### Density function"
   ]
  },
  {
   "cell_type": "code",
   "execution_count": 6,
   "metadata": {},
   "outputs": [],
   "source": [
    "import numpy as np"
   ]
  },
  {
   "cell_type": "code",
   "execution_count": 22,
   "metadata": {},
   "outputs": [],
   "source": [
    "\n",
    "\n",
    "def point_density(distances):\n",
    "    \"\"\"\n",
    "    Calculates the density of a point x in X, using a Gaussian kernel.\n",
    "\n",
    "    Very specific use case, only when kernel width is 1 and distances given are euclidean.\n",
    "\n",
    "    Parameters\n",
    "        - distances: np.array, the distances of x to each point in X\n",
    "    Returns\n",
    "        - density : float, the density of x in X\n",
    "    \"\"\"\n",
    "\n",
    "    N, M = len(distances), len(distances)\n",
    "\n",
    "    # Calculate the density of x\n",
    "\n",
    "    density = 0\n",
    "\n",
    "    for i in range(N):\n",
    "        a = 1/((2*np.pi)**(M/2)*np.sqrt(np.linalg.det(np.power(sigma,2)*np.eye(M))))\n",
    "        b = np.exp(-0.5*distances[i]**2)\n",
    "        density += a*b\n",
    "    \n",
    "\n",
    "    return density/N"
   ]
  },
  {
   "cell_type": "markdown",
   "metadata": {},
   "source": [
    "##### C20 exercises"
   ]
  },
  {
   "cell_type": "code",
   "execution_count": 24,
   "metadata": {},
   "outputs": [
    {
     "name": "stdout",
     "output_type": "stream",
     "text": [
      "6.515389602106573e-06\n"
     ]
    }
   ],
   "source": [
    "distances = np.array([5.11, 4.79, 4.90, 4.74, 2.96, 5.16, 2.88])\n",
    "\n",
    "print(point_density(distances))"
   ]
  },
  {
   "cell_type": "code",
   "execution_count": null,
   "metadata": {},
   "outputs": [],
   "source": [
    "def KNN_density(N_k):\n",
    "    \"\"\"\n",
    "    Calculates KNN density of a point x in X.\n",
    "\n",
    "    Parameters:\n",
    "        - distances: np.array, the distances of x to K nearest neighbors in X\n",
    "    Returns:\n",
    "        - density: float, the density of x in X\n",
    "    \"\"\"\n",
    "\n",
    "    K = len(N_k)\n",
    "\n",
    "\n",
    "    return np.pow((1/K)*np.sum(N_k),-1)\n",
    "\n",
    "def ard(N_)"
   ]
  },
  {
   "cell_type": "code",
   "execution_count": 25,
   "metadata": {},
   "outputs": [
    {
     "name": "stdout",
     "output_type": "stream",
     "text": [
      "[0.32142857 0.39285714 0.5        0.21428571 2.46428571 0.35714286\n",
      " 0.25       0.42857143]\n"
     ]
    }
   ],
   "source": [
    "x = np.array([-3, -5, -8, 0, 75, -4, -1, -6])\n",
    "\n",
    "z = (x-6)/28\n",
    "\n",
    "print(np.abs(z))"
   ]
  },
  {
   "cell_type": "code",
   "execution_count": 26,
   "metadata": {},
   "outputs": [
    {
     "data": {
      "text/plain": [
       "0.04265151812363675"
      ]
     },
     "execution_count": 26,
     "metadata": {},
     "output_type": "execute_result"
    }
   ],
   "source": [
    "o = np.array([0, 4, 7, 9, 5, 5, 5, 6])\n",
    "np.sum(np.exp(-o/4))/64"
   ]
  }
 ],
 "metadata": {
  "kernelspec": {
   "display_name": "introML",
   "language": "python",
   "name": "python3"
  },
  "language_info": {
   "codemirror_mode": {
    "name": "ipython",
    "version": 3
   },
   "file_extension": ".py",
   "mimetype": "text/x-python",
   "name": "python",
   "nbconvert_exporter": "python",
   "pygments_lexer": "ipython3",
   "version": "3.11.7"
  }
 },
 "nbformat": 4,
 "nbformat_minor": 2
}
