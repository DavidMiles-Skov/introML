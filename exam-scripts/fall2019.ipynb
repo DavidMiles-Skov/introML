{
 "cells": [
  {
   "cell_type": "code",
   "execution_count": 1,
   "metadata": {},
   "outputs": [],
   "source": [
    "import numpy as np\n",
    "import matplotlib.pyplot as plt\n",
    "\"\"\"\n",
    "Functions for Exam\n",
    "\"\"\"\n",
    "from bayesian_classifiers import NaiveBayesClassifier\n",
    "from string_format import str_to_nparray, str_to_binary_nparray\n",
    "from association_mining import individualSupport, itemsetSupport, conf\n",
    "from similaritymeasure import *\n",
    "from EM import multivariate_normal, E_step\n",
    "from explained_var import individual_explained_var, cum_explained_var\n",
    "from multinomial_regression import class_probabilities\n",
    "from K_means import kmeans\n",
    "from adaboost import getAlpha, majorityVotingClassifier, updateWeights\n",
    "from AUC_ROC import AUC_no_coords\n",
    "from draw_dendogram import DrawDendogram\n",
    "from KNN_density import density, ard\n",
    "from neural_networks import NN_output\n",
    "from NeuralNetwork import NeuralNetwork\n",
    "from comparing_partitions import delta, countingMat, index\n",
    "from knnCV import knn_CV"
   ]
  },
  {
   "cell_type": "markdown",
   "metadata": {},
   "source": [
    "#### Q2: PCA"
   ]
  },
  {
   "cell_type": "code",
   "execution_count": 7,
   "metadata": {},
   "outputs": [
    {
     "name": "stdout",
     "output_type": "stream",
     "text": [
      "A: False\n",
      "B: True\n",
      "C: False\n",
      "D: False\n"
     ]
    }
   ],
   "source": [
    "s = np.array([43.67,33.47,31.15,30.36,27.77, 13.86])\n",
    "ind_var = individual_explained_var(s)\n",
    "cum_var = cum_explained_var(s)\n",
    "print(f\"A: {cum_var[4]<0.9}\")\n",
    "print(f\"B: {cum_var[2]<0.715}\")\n",
    "print(f\"C: {cum_var[0]<0.3}\")\n",
    "print(f\"D: {(sum(ind_var[-2:]))<0.15}\")"
   ]
  },
  {
   "cell_type": "markdown",
   "metadata": {},
   "source": [
    "#### Q6: KNN Density"
   ]
  },
  {
   "cell_type": "code",
   "execution_count": 9,
   "metadata": {},
   "outputs": [
    {
     "name": "stdout",
     "output_type": "stream",
     "text": [
      "0.5128205128205129\n"
     ]
    }
   ],
   "source": [
    "distances = \"\"\"0.0 4.2 8.3 3.9 3.8 4.6 6.3 4.8 7.1 4.9\n",
    "4.2 0.0 7.4 2.6 3.0 3.2 5.3 3.1 6.6 4.6\n",
    "8.3 7.4 0.0 6.3 7.1 5.5 2.8 5.4 2.4 5.3\n",
    "3.9 2.6 6.3 0.0 1.5 1.6 4.1 1.8 5.3 2.4\n",
    "3.8 3.0 7.1 1.5 0.0 2.4 4.9 2.8 5.8 3.2 \n",
    "4.6 3.2 5.5 1.6 2.4 0.0 3.7 1.7 4.8 2.3\n",
    "6.3 5.3 2.8 4.1 4.9 3.7 0.0 3.8 1.9 3.6\n",
    "4.8 3.1 5.4 1.8 2.8 1.7 3.8 0.0 4.9 2.1\n",
    "7.1 6.6 2.4 5.3 5.8 4.8 1.9 4.9 0.0 4.4\n",
    "4.9 4.6 5.3 2.4 3.2 2.3 3.6 2.1 4.4 0.0\"\"\"\n",
    "distances = str_to_nparray(distances)\n",
    "# What is the average relative density for observation o5 for K = 2 nearest neighbors?\n",
    "print(density(distances, 4, 2))"
   ]
  },
  {
   "cell_type": "markdown",
   "metadata": {},
   "source": [
    "#### Q7: Dendrogram"
   ]
  },
  {
   "cell_type": "code",
   "execution_count": 10,
   "metadata": {},
   "outputs": [
    {
     "data": {
      "image/png": "[encoded data removed]",
      "text/plain": [
       "<Figure size 1000x400 with 1 Axes>"
      ]
     },
     "metadata": {},
     "output_type": "display_data"
    }
   ],
   "source": [
    "DrawDendogram(distances)"
   ]
  },
  {
   "cell_type": "markdown",
   "metadata": {},
   "source": [
    "#### 11 - Association Mining (Support)"
   ]
  },
  {
   "cell_type": "code",
   "execution_count": 18,
   "metadata": {},
   "outputs": [
    {
     "name": "stdout",
     "output_type": "stream",
     "text": [
      "A:\n",
      "0.8\n",
      "1.0\n",
      "0.8\n",
      "B:\n",
      "0.7\n",
      "0.8\n",
      "1.0\n",
      "0.7\n",
      "0.7\n",
      "0.8\n",
      "0.7\n"
     ]
    }
   ],
   "source": [
    "transactions = \"\"\"0 0 0 0 0 1 1 1 0 1 1\n",
    "1 0 0 1 0 1 1 0 1 1 1\n",
    "1 1 1 1 1 0 0 0 0 1 0\n",
    "0 1 0 1 0 0 0 1 0 1 0\n",
    "0 0 0 0 0 1 0 1 1 1 0\n",
    "0 1 1 1 1 0 0 0 1 1 0\n",
    "1 1 1 1 1 0 0 1 0 1 0\n",
    "0 1 1 1 1 0 0 0 1 1 0\n",
    "1 1 1 1 1 0 0 1 0 1 0\n",
    "0 1 1 1 1 0 0 1 0 1 0\"\"\"\n",
    "transactions = str_to_binary_nparray(transactions)\n",
    "# A. {f4}, {f10}, {f4, f10}\n",
    "A = [[3], [9], [3, 9]]\n",
    "print(\"A:\")\n",
    "for itemset in A:\n",
    "    print(itemsetSupport(transactions, itemset))\n",
    "# {f2}, {f4}, {f10}, {f2, f4}, {f2, f10}, {f4, f10}, {f2, f4, f10}\n",
    "B = [[1], [3], [9], [1, 3], [1, 9], [3, 9], [1, 3, 9]]\n",
    "print(\"B:\")\n",
    "for itemset in B:\n",
    "    print(itemsetSupport(transactions, itemset))\n"
   ]
  },
  {
   "cell_type": "markdown",
   "metadata": {},
   "source": [
    "#### Q12: Association Mining (Confidence)"
   ]
  },
  {
   "cell_type": "code",
   "execution_count": 19,
   "metadata": {},
   "outputs": [
    {
     "name": "stdout",
     "output_type": "stream",
     "text": [
      "1.0\n"
     ]
    }
   ],
   "source": [
    "# What is the confidence of the rule {f1, f3, f4, f5, f8} → {f2, f10}?\n",
    "X = [0,2,3,4,7]\n",
    "Y = [1,9]\n",
    "print(conf(transactions, X, Y))"
   ]
  },
  {
   "cell_type": "markdown",
   "metadata": {},
   "source": [
    "#### Q14: Ridge Regression"
   ]
  },
  {
   "cell_type": "code",
   "execution_count": 39,
   "metadata": {},
   "outputs": [
    {
     "data": {
      "text/plain": [
       "2.6615555809552838"
      ]
     },
     "execution_count": 39,
     "metadata": {},
     "output_type": "execute_result"
    }
   ],
   "source": [
    "y = np.array([6,7,7,9])\n",
    "y_hat = y-np.mean(y)\n",
    "\n",
    "\n",
    "x = np.array([2, 5, 6, 7])\n",
    "x_hat = (x-np.mean(x))/np.std(x, ddof=1)\n",
    "\n",
    "\n",
    "w = 0.6\n",
    "\n",
    "s = np.linalg.norm(y_hat - w*x_hat, ord=2)**2\n",
    "E = s + 2*(w**2)\n",
    "\n",
    "\n",
    "E"
   ]
  }
 ],
 "metadata": {
  "kernelspec": {
   "display_name": "introML",
   "language": "python",
   "name": "python3"
  },
  "language_info": {
   "codemirror_mode": {
    "name": "ipython",
    "version": 3
   },
   "file_extension": ".py",
   "mimetype": "text/x-python",
   "name": "python",
   "nbconvert_exporter": "python",
   "pygments_lexer": "ipython3",
   "version": "3.11.7"
  }
 },
 "nbformat": 4,
 "nbformat_minor": 2
}
