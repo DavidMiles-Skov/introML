{
 "cells": [
  {
   "cell_type": "markdown",
   "metadata": {},
   "source": [
    "### C17: Ensemble Methods\n",
    "\n",
    "#### AdaBoost Algorithm"
   ]
  },
  {
   "cell_type": "code",
   "execution_count": 1,
   "metadata": {},
   "outputs": [],
   "source": [
    "import numpy as np"
   ]
  },
  {
   "cell_type": "code",
   "execution_count": 6,
   "metadata": {},
   "outputs": [],
   "source": [
    "def adaBoost_noreplace(labels, predicted):\n",
    "\n",
    "    \"\"\"\n",
    "    Gets set of weights after one iteration of adaBoost algorithm.\n",
    "\n",
    "    Parameters:\n",
    "        labels: list of true labels\n",
    "        predicted: list of predicted labels\n",
    "    \n",
    "    Returns:\n",
    "        w: list of weights\n",
    "    \"\"\"\n",
    "\n",
    "    N = len(labels)\n",
    "    w = np.ones(N) / N\n",
    "\n",
    "    errors = np.array([w[i]*int(labels[i] != predicted[i]) for i in range(N)])\n",
    "    error = np.sum(errors)\n",
    "    alpha = 0.5 * np.log((1 - error) / error)\n",
    "\n",
    "    for i in range(N):\n",
    "\n",
    "        # Update weights\n",
    "        \n",
    "        if labels[i] == predicted[i]:\n",
    "            w[i] *= np.exp(-alpha)\n",
    "        else:\n",
    "            w[i] *= np.exp(alpha)\n",
    "        \n",
    "    # Normalize weights\n",
    "\n",
    "    w /= np.sum(w)\n",
    "\n",
    "    return w\n"
   ]
  },
  {
   "cell_type": "markdown",
   "metadata": {},
   "source": [
    "##### Exam-style questions\n",
    "\n",
    "17.1"
   ]
  },
  {
   "cell_type": "code",
   "execution_count": 7,
   "metadata": {},
   "outputs": [
    {
     "name": "stdout",
     "output_type": "stream",
     "text": [
      "[0.16666667 0.5        0.16666667 0.16666667]\n"
     ]
    }
   ],
   "source": [
    "labels = np.array([1,1,0,0])\n",
    "predictions = np.array([1,0,0,0])\n",
    "weights = adaBoost_noreplace(labels, predictions)\n",
    "print(weights)\n"
   ]
  }
 ],
 "metadata": {
  "kernelspec": {
   "display_name": "introML",
   "language": "python",
   "name": "python3"
  },
  "language_info": {
   "codemirror_mode": {
    "name": "ipython",
    "version": 3
   },
   "file_extension": ".py",
   "mimetype": "text/x-python",
   "name": "python",
   "nbconvert_exporter": "python",
   "pygments_lexer": "ipython3",
   "version": "3.11.7"
  }
 },
 "nbformat": 4,
 "nbformat_minor": 2
}
