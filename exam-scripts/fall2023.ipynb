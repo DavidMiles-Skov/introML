{
 "cells": [
  {
   "cell_type": "code",
   "execution_count": 13,
   "metadata": {},
   "outputs": [],
   "source": [
    "import numpy as np\n",
    "import matplotlib.pyplot as plt\n",
    "\"\"\"\n",
    "Functions for Exam\n",
    "\"\"\"\n",
    "from bayesian_classifiers import NaiveBayesClassifier\n",
    "from string_format import str_to_nparray, str_to_binary_nparray\n",
    "from association_mining import individualSupport, itemsetSupport, conf\n",
    "from similaritymeasure import *\n",
    "from explained_var import individual_explained_var, cum_explained_var\n",
    "from multinomial_regression import class_probabilities\n",
    "from K_means import kmeans\n",
    "from adaboost import getAlpha, majorityVotingClassifier, updateWeights\n",
    "from AUC_ROC import AUC_no_coords\n",
    "from draw_dendogram import DrawDendogram\n",
    "from KNN_density import density, ard\n",
    "from neural_networks import NN_output\n",
    "from NeuralNetwork import NeuralNetwork\n",
    "from comparing_partitions import delta, countingMat, index\n",
    "from knnCV import knn_CV\n",
    "from probability_distributions import *"
   ]
  },
  {
   "cell_type": "markdown",
   "metadata": {},
   "source": [
    "### Q3: PCA"
   ]
  },
  {
   "cell_type": "code",
   "execution_count": 2,
   "metadata": {},
   "outputs": [
    {
     "data": {
      "text/plain": [
       "(array([[-0.6, -0.6,  2.5, -0.1],\n",
       "        [-0.8, -0.3, -1. ,  1.2],\n",
       "        [-0.7,  0.3, -0.2, -0.1],\n",
       "        [ 1.4,  1. ,  0.1, -2.8],\n",
       "        [-0.2,  0.8, -1.2,  0.7]]),\n",
       " array([[ 0.43, -0.26,  0.22, -0.84],\n",
       "        [ 0.17, -0.37,  0.81,  0.42],\n",
       "        [ 0.33,  0.88,  0.34, -0.01],\n",
       "        [-0.82,  0.14,  0.42, -0.36]]))"
      ]
     },
     "execution_count": 2,
     "metadata": {},
     "output_type": "execute_result"
    }
   ],
   "source": [
    "X = \"\"\"-0.6 -0.6 2.5 -0.1\n",
    "-0.8 -0.3 -1 1.2\n",
    "-0.7 0.3 -0.2 -0.1\n",
    "1.4 1 0.1 -2.8\n",
    "-0.2 0.8 -1.2 0.7\"\"\"\n",
    "X = str_to_nparray(X)\n",
    "V = \"\"\" 0.43 -0.26 0.22 -0.84\n",
    "0.17 -0.37 0.81 0.42\n",
    "0.33 0.88 0.34 -0.01\n",
    "-0.82 0.14 0.42 -0.36\"\"\"\n",
    "V = str_to_nparray(V)\n",
    "X, V"
   ]
  },
  {
   "cell_type": "code",
   "execution_count": 3,
   "metadata": {},
   "outputs": [
    {
     "data": {
      "text/plain": [
       "array([[ 0.547,  2.564,  0.19 ,  0.263],\n",
       "       [-1.709, -0.393, -0.255,  0.124],\n",
       "       [-0.234, -0.119, -0.021,  0.752],\n",
       "       [ 3.101, -1.038, -0.024,  0.251],\n",
       "       [-0.92 , -1.202,  0.49 ,  0.264]])"
      ]
     },
     "execution_count": 3,
     "metadata": {},
     "output_type": "execute_result"
    }
   ],
   "source": [
    "A = X@V\n",
    "A"
   ]
  },
  {
   "cell_type": "code",
   "execution_count": 4,
   "metadata": {},
   "outputs": [
    {
     "data": {
      "text/plain": [
       "array([[ 0.547,  2.564,  0.19 ,  0.263],\n",
       "       [-1.709, -0.393, -0.255,  0.124],\n",
       "       [-0.234, -0.119, -0.021,  0.752],\n",
       "       [ 3.101, -1.038, -0.024,  0.251],\n",
       "       [-0.92 , -1.202,  0.49 ,  0.264]])"
      ]
     },
     "execution_count": 4,
     "metadata": {},
     "output_type": "execute_result"
    }
   ],
   "source": [
    "A"
   ]
  },
  {
   "cell_type": "markdown",
   "metadata": {},
   "source": [
    "### Q4: PCA"
   ]
  },
  {
   "cell_type": "code",
   "execution_count": 5,
   "metadata": {},
   "outputs": [
    {
     "data": {
      "text/plain": [
       "array([0.583, 0.394, 0.013, 0.01 ])"
      ]
     },
     "execution_count": 5,
     "metadata": {},
     "output_type": "execute_result"
    }
   ],
   "source": [
    "s = np.array([3.7, 3.04, 0.56, 0.48])\n",
    "individual_explained_var(s)\n"
   ]
  },
  {
   "cell_type": "markdown",
   "metadata": {},
   "source": [
    "### Q6: Logistic Regression"
   ]
  },
  {
   "cell_type": "markdown",
   "metadata": {},
   "source": [
    "### Q7: ANN"
   ]
  },
  {
   "cell_type": "code",
   "execution_count": 6,
   "metadata": {},
   "outputs": [
    {
     "name": "stdout",
     "output_type": "stream",
     "text": [
      "0.9329964083023192\n",
      "0.9634101227566055\n",
      "0.9434820953882654\n",
      "0.7953180737785034\n"
     ]
    }
   ],
   "source": [
    "h = lambda x: np.tanh(x)\n",
    "\n",
    "def feedforward(x):\n",
    "    w11 = [2.2, 0.7, -0.3]\n",
    "    w12 = [-0.2, 0.8, 0.4]\n",
    "    w2 = [-0.7, 0.5]\n",
    "    w0=2.2\n",
    "    s = w2[0]*h(np.dot(x, np.array(w11))) + w2[1]*h(np.dot(x, np.array(w12))) + w0\n",
    "    return h(s)\n",
    "\n",
    "\n",
    "# top left\n",
    "x1 = np.array([1, -2, 2])\n",
    "# top right\n",
    "x2 = np.array([1, 2, 2])\n",
    "# bottom right\n",
    "x3 = np.array([1, 2, -2])\n",
    "# bottom left\n",
    "x4 = np.array([1, -2, -2])\n",
    "\n",
    "for x in [x1, x2, x3, x4]:\n",
    "    print(feedforward(x))"
   ]
  },
  {
   "cell_type": "markdown",
   "metadata": {},
   "source": [
    "### Q12: RLR"
   ]
  },
  {
   "cell_type": "code",
   "execution_count": 7,
   "metadata": {},
   "outputs": [
    {
     "data": {
      "text/plain": [
       "2.3855271282344326"
      ]
     },
     "execution_count": 7,
     "metadata": {},
     "output_type": "execute_result"
    }
   ],
   "source": [
    "X = np.array([-3.4, -1.3, 0.5, 2.4, 4.2])\n",
    "X = (X-np.mean(X))/np.std(X, ddof=1)\n",
    "y_original = np.array([-2.9,-0.4, 0.7, 2.5, 4.5])\n",
    "y = np.array([-2.9,-0.4, 0.7, 2.5, 4.5]).T\n",
    "y -= np.mean(y)\n",
    "\n",
    "# Finding optimal weights\n",
    "a = X@X.T + 0.7\n",
    "b = X.T@y\n",
    "c=b/a\n",
    "c\n"
   ]
  },
  {
   "cell_type": "code",
   "execution_count": 8,
   "metadata": {},
   "outputs": [
    {
     "data": {
      "text/plain": [
       "(0.8800000000000001, 2.3855271282344326)"
      ]
     },
     "execution_count": 8,
     "metadata": {},
     "output_type": "execute_result"
    }
   ],
   "source": [
    "np.mean(np.array([-2.9,-0.4, 0.7, 2.5, 4.5])), c"
   ]
  },
  {
   "cell_type": "code",
   "execution_count": 9,
   "metadata": {},
   "outputs": [
    {
     "data": {
      "text/plain": [
       "-0.5403928682812784"
      ]
     },
     "execution_count": 9,
     "metadata": {},
     "output_type": "execute_result"
    }
   ],
   "source": [
    "c2 =  b/a\n",
    "c2*(X[1])+np.mean(np.array([-2.9,-0.4, 0.7, 2.5, 4.5]))"
   ]
  },
  {
   "cell_type": "code",
   "execution_count": 10,
   "metadata": {},
   "outputs": [
    {
     "data": {
      "text/plain": [
       "2.3855271282344326"
      ]
     },
     "execution_count": 10,
     "metadata": {},
     "output_type": "execute_result"
    }
   ],
   "source": [
    "c2"
   ]
  },
  {
   "cell_type": "code",
   "execution_count": 11,
   "metadata": {},
   "outputs": [
    {
     "data": {
      "text/plain": [
       "-2.2211852667047625"
      ]
     },
     "execution_count": 11,
     "metadata": {},
     "output_type": "execute_result"
    }
   ],
   "source": [
    "w0 = np.mean(np.array([-2.9,-0.4, 0.7, 2.5, 4.5]))\n",
    "w1=c\n",
    "w0, w1\n",
    "y_pred = w0 + w1*(-1.3-np.mean(X))/np.std(X, ddof=1)\n",
    "y_pred"
   ]
  },
  {
   "cell_type": "markdown",
   "metadata": {},
   "source": [
    "### Q13: Naïve-Bayes"
   ]
  },
  {
   "cell_type": "code",
   "execution_count": 14,
   "metadata": {},
   "outputs": [
    {
     "data": {
      "text/plain": [
       "(0.5799097919685753, 0.42009020803142477)"
      ]
     },
     "execution_count": 14,
     "metadata": {},
     "output_type": "execute_result"
    }
   ],
   "source": [
    "mu_1, mu_2 = np.array([0.77, -0.41]).T, np.array([-0.91, 0.5]).T\n",
    "sigma_1 = np.array([[0.29, -0.12], \n",
    "                    [-0.12, 0.55]])\n",
    "\n",
    "sigma_2 = np.array([[0.32, -0.11],\n",
    "                    [-0.11,1.12]])\n",
    "\n",
    "x_test = np.array([0,0.7])\n",
    "\n",
    "P_1 = multivariate_normal(mu_1, sigma_1, x_test, 2)\n",
    "P_2 = multivariate_normal(mu_2, sigma_2, x_test, 2)\n",
    "p_y_1 = 0.53\n",
    "p_y_2 = 0.47\n",
    "# Probability\n",
    "p_y_1*P_1/(p_y_1*P_1 + p_y_2*P_2), p_y_2*P_2/(p_y_1*P_1 + p_y_2*P_2) \n"
   ]
  },
  {
   "cell_type": "code",
   "execution_count": null,
   "metadata": {},
   "outputs": [],
   "source": []
  },
  {
   "cell_type": "markdown",
   "metadata": {},
   "source": [
    "### Q15: Distances"
   ]
  },
  {
   "cell_type": "code",
   "execution_count": null,
   "metadata": {},
   "outputs": [],
   "source": [
    "d = \"\"\"\n",
    "0 0\n",
    "-0.4 -0.8 \n",
    "-0.9 0.3 \n",
    "0 0.9\n",
    "1 -0.1\n",
    "0.8 -0.7\n",
    "0.1 0.8\"\"\"\n",
    "d = str_to_nparray(d)\n",
    "\n",
    "def makeDistanceMat(x, ord=2):\n",
    "    \"\"\"\n",
    "    Given a list of vectors, compute the pairwise distance matrix.\n",
    "\n",
    "    Used first in Fall 2017 exam.\n",
    "    \"\"\"\n",
    "    n = len(x)\n",
    "    D = np.zeros((n, n))\n",
    "    for i in range(n):\n",
    "        for j in range(n):\n",
    "            D[i, j] = np.linalg.norm(x[i] - x[j], ord=ord)\n",
    "    return D\n",
    "\n",
    "d_1 = makeDistanceMat(d, ord=1)\n",
    "d_2= makeDistanceMat(d, ord=2)\n",
    "d_inf = makeDistanceMat(d, ord=np.inf)"
   ]
  },
  {
   "cell_type": "code",
   "execution_count": null,
   "metadata": {},
   "outputs": [],
   "source": [
    "print(d_1)\n",
    "print(np.round(d_2, 3))\n",
    "print(d_inf)"
   ]
  },
  {
   "cell_type": "markdown",
   "metadata": {},
   "source": [
    "### Q17: Dendrogram"
   ]
  },
  {
   "cell_type": "code",
   "execution_count": null,
   "metadata": {},
   "outputs": [],
   "source": [
    "euc_dist = \"\"\"0.0 2.6 2.8 2.1 0.8 1.7 3.9 3.8 4.1 4.2\n",
    "2.6 0.0 1.8 2.3 2.7 1.4 1.9 1.7 2.0 2.2\n",
    "2.8 1.8 0.0 1.2 2.9 2.1 2.2 1.6 2.3 2.0\n",
    "2.1 2.3 1.2 0.0 2.4 1.8 2.6 2.5 3.0 2.9\n",
    "0.8 2.7 2.9 2.4 0.0 2.0 4.2 4.0 4.4 4.5\n",
    "1.7 1.4 2.1 1.8 2.0 0.0 2.4 2.6 2.7 3.0\n",
    "3.9 1.9 2.2 2.6 4.2 2.4 0.0 1.2 0.6 1.3 \n",
    "3.8 1.7 1.6 2.5 4.0 2.6 1.2 0.0 1.0 0.6\n",
    "4.1 2.0 2.3 3.0 4.4 2.7 0.6 1.0 0.0 0.9\n",
    "4.2 2.2 2.0 2.9 4.5 3.0 1.3 0.6 0.9 0.0\"\"\"\n",
    "euc_dist = str_to_nparray(euc_dist)\n",
    "DrawDendogram(euc_dist)"
   ]
  },
  {
   "cell_type": "markdown",
   "metadata": {},
   "source": [
    "### Q18: AdaBoost"
   ]
  },
  {
   "cell_type": "code",
   "execution_count": null,
   "metadata": {},
   "outputs": [],
   "source": [
    "initial_w = np.ones(6)/6\n",
    "true_labels = np.array([2,2,1,2,1,1])\n",
    "pred = np.array([2,2,2,1,2,2])\n",
    "\n",
    "new_w = updateWeights(initial_w, pred, true_labels)\n",
    "new_w\n"
   ]
  },
  {
   "cell_type": "markdown",
   "metadata": {},
   "source": [
    "### Q19: KNN accuracy"
   ]
  },
  {
   "cell_type": "code",
   "execution_count": null,
   "metadata": {},
   "outputs": [],
   "source": [
    "error = knn_CV(euc_dist, np.array([1,1,1,1,1,1,2,2,2,2]), 3)\n",
    "error"
   ]
  },
  {
   "cell_type": "markdown",
   "metadata": {},
   "source": [
    "### Q21: KDE anomalies"
   ]
  },
  {
   "cell_type": "code",
   "execution_count": null,
   "metadata": {},
   "outputs": [],
   "source": [
    "vals = [-3, -1, 5, 6, -4, 2]\n",
    "def kde_density(vals, sigma):\n",
    "    \"\"\"\n",
    "    Returns the density of each point according to the KDE with the given sigma\n",
    "\n",
    "    Parameters:\n",
    "    vals (np.array): The values for which to calculate the density\n",
    "    sigma (float): The standard deviation of the kernel\n",
    "\n",
    "    Returns:\n",
    "    np.array: The density of each point\n",
    "    \"\"\"\n",
    "\n",
    "    density = np.zeros(len(vals))\n",
    "    N = len(vals)\n",
    "    for i in range(len(vals)):\n",
    "        for j in range(len(vals)):\n",
    "            if i != j:\n",
    "                density[i] += np.exp(-0.5*(vals[i]-vals[j])**2/sigma**2)\n",
    "        density[i] /= (N-1)*sigma*np.sqrt(2*np.pi)\n",
    "    return density\n",
    "k_d = kde_density(vals, np.sqrt(0.5))\n",
    "k_d"
   ]
  }
 ],
 "metadata": {
  "kernelspec": {
   "display_name": "introML",
   "language": "python",
   "name": "python3"
  },
  "language_info": {
   "codemirror_mode": {
    "name": "ipython",
    "version": 3
   },
   "file_extension": ".py",
   "mimetype": "text/x-python",
   "name": "python",
   "nbconvert_exporter": "python",
   "pygments_lexer": "ipython3",
   "version": "3.11.7"
  }
 },
 "nbformat": 4,
 "nbformat_minor": 2
}
